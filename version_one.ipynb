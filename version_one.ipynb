{
 "cells": [
  {
   "cell_type": "code",
   "execution_count": 39,
   "metadata": {},
   "outputs": [],
   "source": [
    "import numpy as np\n",
    "import pandas as pd\n",
    "from sklearn.preprocessing import StandardScaler, MinMaxScaler\n",
    "from sklearn.model_selection import train_test_split\n",
    "from keras.models import Model\n",
    "from keras.layers import Input, Dense, LSTM, Conv1D, MaxPooling1D, Dropout, Flatten, concatenate\n",
    "import matplotlib.pyplot as plt\n",
    "from tensorflow.keras.optimizers import Adam\n",
    "from tensorflow.keras.utils import to_categorical\n",
    "from keras.layers import Dense, Input, Dropout\n",
    "from keras.layers.advanced_activations import LeakyReLU\n",
    "from keras.models import Sequential"
   ]
  },
  {
   "cell_type": "code",
   "execution_count": 23,
   "metadata": {},
   "outputs": [],
   "source": [
    "# Read the cleaned data CSV file into pandas DataFrame\n",
    "data = pd.read_csv(\"Cleaned_forex_data.csv\")"
   ]
  },
  {
   "cell_type": "code",
   "execution_count": 24,
   "metadata": {},
   "outputs": [],
   "source": [
    "# Calculate RSI\n",
    "delta = data['Close'].diff()\n",
    "gain = delta.where(delta > 0, 0)\n",
    "loss = -delta.where(delta < 0, 0)\n",
    "avg_gain = gain.rolling(window=14).mean()\n",
    "avg_loss = loss.rolling(window=14).mean().abs()\n",
    "rs = avg_gain / avg_loss\n",
    "rsi = 100 - (100 / (1 + rs))\n",
    "data['rsi'] = rsi"
   ]
  },
  {
   "cell_type": "code",
   "execution_count": 25,
   "metadata": {},
   "outputs": [],
   "source": [
    "def create_sequences(data, sequence_length):\n",
    "    X = []\n",
    "    y = []\n",
    "    for i in range(len(data) - sequence_length):\n",
    "        X.append(data[i:(i + sequence_length), :-1])\n",
    "        y.append(data[i + sequence_length, -1])\n",
    "    return np.array(X), np.array(y)"
   ]
  },
  {
   "cell_type": "code",
   "execution_count": 26,
   "metadata": {},
   "outputs": [],
   "source": [
    "data['label'] = np.where(data['Close'].shift(-1) > data['Close'], 1, 0)\n",
    "data = data.dropna()"
   ]
  },
  {
   "cell_type": "code",
   "execution_count": 27,
   "metadata": {},
   "outputs": [
    {
     "data": {
      "text/plain": [
       "Index(['Date', 'Open', 'High', 'Low', 'Close', 'Volume', 'rsi', 'label'], dtype='object')"
      ]
     },
     "execution_count": 27,
     "metadata": {},
     "output_type": "execute_result"
    }
   ],
   "source": [
    "data.columns"
   ]
  },
  {
   "cell_type": "code",
   "execution_count": 28,
   "metadata": {},
   "outputs": [],
   "source": [
    "# Define the sequence length and create sequences\n",
    "sequence_length = 50\n",
    "data = data[['Open', 'High', 'Low', 'Close', 'Volume', 'rsi', 'label']]\n",
    "scaler = MinMaxScaler(feature_range=(0, 1))\n",
    "data = scaler.fit_transform(data)\n",
    "X, y = create_sequences(data, sequence_length)"
   ]
  },
  {
   "cell_type": "code",
   "execution_count": 29,
   "metadata": {},
   "outputs": [],
   "source": [
    "# Split the data into training, validation, and test sets\n",
    "train_X, test_X, train_y, test_y = train_test_split(X, y, test_size=0.2, shuffle=False)\n",
    "train_X, val_X, train_y, val_y = train_test_split(train_X, train_y, test_size=0.25, shuffle=False)"
   ]
  },
  {
   "cell_type": "code",
   "execution_count": 30,
   "metadata": {},
   "outputs": [],
   "source": [
    "# Define the input shape\n",
    "input_shape = (train_X.shape[1], train_X.shape[2])\n"
   ]
  },
  {
   "cell_type": "code",
   "execution_count": 31,
   "metadata": {},
   "outputs": [],
   "source": [
    "# Define the LSTM model\n",
    "lstm_input = Input(shape=input_shape)\n",
    "lstm_layer = LSTM(64, dropout=0.2, recurrent_dropout=0.2)(lstm_input)"
   ]
  },
  {
   "cell_type": "code",
   "execution_count": 32,
   "metadata": {},
   "outputs": [],
   "source": [
    "# Define the CNN model\n",
    "cnn_input = Input(shape=input_shape)\n",
    "cnn_layer = Conv1D(filters=64, kernel_size=3, activation='relu')(cnn_input)\n",
    "cnn_layer = MaxPooling1D(pool_size=2)(cnn_layer)\n",
    "cnn_layer = Dropout(0.2)(cnn_layer)\n",
    "cnn_layer = Flatten()(cnn_layer)"
   ]
  },
  {
   "cell_type": "code",
   "execution_count": 33,
   "metadata": {},
   "outputs": [],
   "source": [
    "\n",
    "# Concatenate the LSTM and CNN models\n",
    "merged = concatenate([lstm_layer, cnn_layer])\n",
    "merged = Dense(64, activation='relu')(merged)\n",
    "merged = Dropout(0.2)(merged)\n",
    "output = Dense(3, activation='softmax')(merged)"
   ]
  },
  {
   "cell_type": "code",
   "execution_count": 34,
   "metadata": {},
   "outputs": [],
   "source": [
    "\n",
    "\n",
    "train_y = to_categorical(train_y, num_classes=3)\n",
    "val_y = to_categorical(val_y, num_classes=3)"
   ]
  },
  {
   "cell_type": "code",
   "execution_count": 53,
   "metadata": {},
   "outputs": [
    {
     "name": "stdout",
     "output_type": "stream",
     "text": [
      "Epoch 1/50\n",
      "298/298 [==============================] - 20s 63ms/step - loss: 0.9782 - accuracy: 0.5119 - val_loss: 0.6935 - val_accuracy: 0.5207\n",
      "Epoch 2/50\n",
      "298/298 [==============================] - 20s 67ms/step - loss: 0.6944 - accuracy: 0.5131 - val_loss: 0.6947 - val_accuracy: 0.4793\n",
      "Epoch 3/50\n",
      "298/298 [==============================] - 21s 70ms/step - loss: 0.6940 - accuracy: 0.5206 - val_loss: 0.6926 - val_accuracy: 0.5207\n",
      "Epoch 4/50\n",
      "298/298 [==============================] - 20s 68ms/step - loss: 47653.5039 - accuracy: 0.5037 - val_loss: 667.0616 - val_accuracy: 0.5207\n",
      "Epoch 5/50\n",
      "298/298 [==============================] - 21s 69ms/step - loss: 420.3158 - accuracy: 0.5056 - val_loss: 93.3551 - val_accuracy: 0.5207\n",
      "Epoch 6/50\n",
      "298/298 [==============================] - 21s 69ms/step - loss: 194.7952 - accuracy: 0.4948 - val_loss: 74.9088 - val_accuracy: 0.4793\n",
      "Epoch 7/50\n",
      "298/298 [==============================] - 23s 76ms/step - loss: 133.0504 - accuracy: 0.4994 - val_loss: 58.5543 - val_accuracy: 0.4793\n",
      "Epoch 8/50\n",
      "298/298 [==============================] - 21s 70ms/step - loss: 98.7560 - accuracy: 0.5006 - val_loss: 1.7986 - val_accuracy: 0.5207\n",
      "Epoch 9/50\n",
      "298/298 [==============================] - 21s 69ms/step - loss: 66.3288 - accuracy: 0.5033 - val_loss: 9.9938 - val_accuracy: 0.4793\n",
      "Epoch 10/50\n",
      "298/298 [==============================] - 21s 70ms/step - loss: 46.3926 - accuracy: 0.5066 - val_loss: 1.5950 - val_accuracy: 0.4793\n",
      "Epoch 11/50\n",
      "298/298 [==============================] - 21s 70ms/step - loss: 43.4760 - accuracy: 0.5019 - val_loss: 24.2431 - val_accuracy: 0.5207\n",
      "Epoch 12/50\n",
      "298/298 [==============================] - 22s 73ms/step - loss: 51.7328 - accuracy: 0.4950 - val_loss: 15.6006 - val_accuracy: 0.4793\n",
      "Epoch 13/50\n",
      "298/298 [==============================] - 21s 71ms/step - loss: 23.4422 - accuracy: 0.5011 - val_loss: 14.7133 - val_accuracy: 0.5207\n",
      "Epoch 14/50\n",
      "298/298 [==============================] - 21s 71ms/step - loss: 11.3139 - accuracy: 0.4999 - val_loss: 0.6947 - val_accuracy: 0.5188\n",
      "Epoch 15/50\n",
      "298/298 [==============================] - 22s 74ms/step - loss: 7.7513 - accuracy: 0.5001 - val_loss: 8.1875 - val_accuracy: 0.5207\n",
      "Epoch 16/50\n",
      "298/298 [==============================] - 22s 73ms/step - loss: 6.5800 - accuracy: 0.5004 - val_loss: 0.6958 - val_accuracy: 0.5185\n",
      "Epoch 17/50\n",
      "298/298 [==============================] - 21s 71ms/step - loss: 5.5436 - accuracy: 0.5029 - val_loss: 0.7020 - val_accuracy: 0.5207\n",
      "Epoch 18/50\n",
      "298/298 [==============================] - 21s 70ms/step - loss: 2.9755 - accuracy: 0.5038 - val_loss: 0.9611 - val_accuracy: 0.4793\n",
      "Epoch 19/50\n",
      "298/298 [==============================] - 21s 71ms/step - loss: 12.3298 - accuracy: 0.5021 - val_loss: 0.7400 - val_accuracy: 0.5207\n",
      "Epoch 20/50\n",
      "298/298 [==============================] - 21s 71ms/step - loss: 9.3842 - accuracy: 0.5074 - val_loss: 3.5015 - val_accuracy: 0.4793\n",
      "Epoch 21/50\n",
      "298/298 [==============================] - 21s 70ms/step - loss: 5.2597 - accuracy: 0.5024 - val_loss: 6.1014 - val_accuracy: 0.4793\n",
      "Epoch 22/50\n",
      "298/298 [==============================] - 21s 71ms/step - loss: 47.1992 - accuracy: 0.4992 - val_loss: 6.5477 - val_accuracy: 0.4793\n",
      "Epoch 23/50\n",
      "298/298 [==============================] - 21s 71ms/step - loss: 57.0270 - accuracy: 0.4987 - val_loss: 7.5013 - val_accuracy: 0.5207\n",
      "Epoch 24/50\n",
      "298/298 [==============================] - 23s 76ms/step - loss: 47.0473 - accuracy: 0.5018 - val_loss: 10.4004 - val_accuracy: 0.4793\n",
      "Epoch 25/50\n",
      "298/298 [==============================] - 22s 75ms/step - loss: 8.8251 - accuracy: 0.5024 - val_loss: 4.1271 - val_accuracy: 0.4793\n",
      "Epoch 26/50\n",
      "298/298 [==============================] - 21s 70ms/step - loss: 3.4156 - accuracy: 0.5086 - val_loss: 15.2894 - val_accuracy: 0.4793\n",
      "Epoch 27/50\n",
      "298/298 [==============================] - 21s 71ms/step - loss: 4.5652 - accuracy: 0.5012 - val_loss: 0.8696 - val_accuracy: 0.4793\n",
      "Epoch 28/50\n",
      "298/298 [==============================] - 21s 71ms/step - loss: 76.4930 - accuracy: 0.5085 - val_loss: 30.0889 - val_accuracy: 0.5207\n",
      "Epoch 29/50\n",
      "298/298 [==============================] - 21s 71ms/step - loss: 50325556.0000 - accuracy: 0.4965 - val_loss: 422114.7188 - val_accuracy: 0.5207\n",
      "Epoch 30/50\n",
      "298/298 [==============================] - 21s 70ms/step - loss: 536415.1875 - accuracy: 0.4999 - val_loss: 12789.3477 - val_accuracy: 0.5207\n",
      "Epoch 31/50\n",
      "298/298 [==============================] - 21s 72ms/step - loss: 243459.9375 - accuracy: 0.5013 - val_loss: 18894.8281 - val_accuracy: 0.4793\n",
      "Epoch 32/50\n",
      "298/298 [==============================] - 21s 70ms/step - loss: 122815.8594 - accuracy: 0.5015 - val_loss: 99479.2031 - val_accuracy: 0.4793\n",
      "Epoch 33/50\n",
      "298/298 [==============================] - 22s 75ms/step - loss: 95678.9609 - accuracy: 0.4990 - val_loss: 39099.9141 - val_accuracy: 0.4793\n",
      "Epoch 34/50\n",
      "298/298 [==============================] - 22s 74ms/step - loss: 73478.0078 - accuracy: 0.4957 - val_loss: 13968.0693 - val_accuracy: 0.4793\n",
      "Epoch 35/50\n",
      "298/298 [==============================] - 22s 73ms/step - loss: 50517.9766 - accuracy: 0.5024 - val_loss: 18414.9336 - val_accuracy: 0.4793\n",
      "Epoch 36/50\n",
      "298/298 [==============================] - 21s 71ms/step - loss: 41133.4180 - accuracy: 0.5004 - val_loss: 555.1563 - val_accuracy: 0.4832\n",
      "Epoch 37/50\n",
      "298/298 [==============================] - 21s 72ms/step - loss: 35149.9922 - accuracy: 0.4981 - val_loss: 4727.9585 - val_accuracy: 0.5207\n",
      "Epoch 38/50\n",
      "298/298 [==============================] - 21s 71ms/step - loss: 29134.7715 - accuracy: 0.5001 - val_loss: 4259.4941 - val_accuracy: 0.4793\n",
      "Epoch 39/50\n",
      "298/298 [==============================] - 21s 71ms/step - loss: 26618.7246 - accuracy: 0.5020 - val_loss: 899.0142 - val_accuracy: 0.4840\n",
      "Epoch 40/50\n",
      "298/298 [==============================] - 22s 74ms/step - loss: 30017.0449 - accuracy: 0.5010 - val_loss: 1366.3007 - val_accuracy: 0.5207\n",
      "Epoch 41/50\n",
      "298/298 [==============================] - 22s 73ms/step - loss: 14609.4512 - accuracy: 0.5030 - val_loss: 84.6514 - val_accuracy: 0.4916\n",
      "Epoch 42/50\n",
      "298/298 [==============================] - 22s 75ms/step - loss: 12373.7441 - accuracy: 0.4987 - val_loss: 2639.5129 - val_accuracy: 0.4793\n",
      "Epoch 43/50\n",
      "298/298 [==============================] - 21s 71ms/step - loss: 26970.6602 - accuracy: 0.4989 - val_loss: 1348.3357 - val_accuracy: 0.4793\n",
      "Epoch 44/50\n",
      "298/298 [==============================] - 21s 70ms/step - loss: 9061.5029 - accuracy: 0.4972 - val_loss: 71.3903 - val_accuracy: 0.4999\n",
      "Epoch 45/50\n",
      "298/298 [==============================] - 21s 71ms/step - loss: 6445.7480 - accuracy: 0.5010 - val_loss: 2158.9946 - val_accuracy: 0.4793\n",
      "Epoch 46/50\n",
      "298/298 [==============================] - 22s 73ms/step - loss: 14581.6504 - accuracy: 0.4973 - val_loss: 3030.7083 - val_accuracy: 0.4793\n",
      "Epoch 47/50\n",
      "298/298 [==============================] - 21s 72ms/step - loss: 6806.0532 - accuracy: 0.5014 - val_loss: 4829.1729 - val_accuracy: 0.4793\n",
      "Epoch 48/50\n",
      "298/298 [==============================] - 21s 71ms/step - loss: 4230.9390 - accuracy: 0.4944 - val_loss: 429.3238 - val_accuracy: 0.4793\n",
      "Epoch 49/50\n",
      "298/298 [==============================] - 21s 70ms/step - loss: 11619.5303 - accuracy: 0.5020 - val_loss: 1640.6028 - val_accuracy: 0.4793\n",
      "Epoch 50/50\n",
      "298/298 [==============================] - 23s 76ms/step - loss: 7284.0532 - accuracy: 0.4988 - val_loss: 2118.3958 - val_accuracy: 0.4793\n",
      "Epoch 1/50\n",
      "298/298 [==============================] - 23s 74ms/step - loss: 0.7074 - accuracy: 0.5090 - val_loss: 0.6939 - val_accuracy: 0.5207\n",
      "Epoch 2/50\n",
      "298/298 [==============================] - 21s 71ms/step - loss: 0.6953 - accuracy: 0.5191 - val_loss: 0.6933 - val_accuracy: 0.5207\n",
      "Epoch 3/50\n",
      "298/298 [==============================] - 21s 71ms/step - loss: 0.6931 - accuracy: 0.5240 - val_loss: 0.6925 - val_accuracy: 0.5207\n",
      "Epoch 4/50\n",
      "298/298 [==============================] - 22s 72ms/step - loss: 0.6926 - accuracy: 0.5272 - val_loss: 0.6956 - val_accuracy: 0.5207\n",
      "Epoch 5/50\n",
      "298/298 [==============================] - 22s 72ms/step - loss: 0.6930 - accuracy: 0.5233 - val_loss: 0.6933 - val_accuracy: 0.5201\n",
      "Epoch 6/50\n",
      "298/298 [==============================] - 22s 73ms/step - loss: 0.6925 - accuracy: 0.5274 - val_loss: 0.6923 - val_accuracy: 0.5207\n",
      "Epoch 7/50\n",
      "298/298 [==============================] - 22s 74ms/step - loss: 0.6923 - accuracy: 0.5266 - val_loss: 0.6940 - val_accuracy: 0.5207\n",
      "Epoch 8/50\n",
      "298/298 [==============================] - 22s 75ms/step - loss: 0.6924 - accuracy: 0.5265 - val_loss: 0.6930 - val_accuracy: 0.5207\n",
      "Epoch 9/50\n",
      "298/298 [==============================] - 22s 75ms/step - loss: 0.6926 - accuracy: 0.5246 - val_loss: 0.6925 - val_accuracy: 0.5207\n",
      "Epoch 10/50\n",
      "298/298 [==============================] - 21s 71ms/step - loss: 0.6924 - accuracy: 0.5259 - val_loss: 0.6933 - val_accuracy: 0.5207\n",
      "Epoch 11/50\n",
      "298/298 [==============================] - 21s 71ms/step - loss: 0.6921 - accuracy: 0.5275 - val_loss: 0.6923 - val_accuracy: 0.5207\n",
      "Epoch 12/50\n",
      "298/298 [==============================] - 21s 72ms/step - loss: 0.6923 - accuracy: 0.5276 - val_loss: 0.6924 - val_accuracy: 0.5207\n",
      "Epoch 13/50\n",
      "298/298 [==============================] - 21s 72ms/step - loss: 0.6920 - accuracy: 0.5251 - val_loss: 0.6931 - val_accuracy: 0.5207\n",
      "Epoch 14/50\n",
      "298/298 [==============================] - 22s 73ms/step - loss: 0.6926 - accuracy: 0.5254 - val_loss: 0.6928 - val_accuracy: 0.5207\n",
      "Epoch 15/50\n",
      "298/298 [==============================] - 21s 72ms/step - loss: 0.6919 - accuracy: 0.5296 - val_loss: 0.6931 - val_accuracy: 0.5207\n",
      "Epoch 16/50\n",
      "298/298 [==============================] - 22s 73ms/step - loss: 0.6920 - accuracy: 0.5280 - val_loss: 0.6923 - val_accuracy: 0.5207\n",
      "Epoch 17/50\n",
      "298/298 [==============================] - 23s 76ms/step - loss: 0.6920 - accuracy: 0.5269 - val_loss: 0.6925 - val_accuracy: 0.5207\n",
      "Epoch 18/50\n",
      "298/298 [==============================] - 22s 73ms/step - loss: 0.6920 - accuracy: 0.5294 - val_loss: 0.6925 - val_accuracy: 0.5207\n",
      "Epoch 19/50\n",
      "298/298 [==============================] - 22s 73ms/step - loss: 0.6918 - accuracy: 0.5285 - val_loss: 0.6923 - val_accuracy: 0.5207\n",
      "Epoch 20/50\n",
      "298/298 [==============================] - 23s 76ms/step - loss: 0.6920 - accuracy: 0.5297 - val_loss: 0.6926 - val_accuracy: 0.5207\n",
      "Epoch 21/50\n",
      "298/298 [==============================] - 23s 75ms/step - loss: 0.7825 - accuracy: 0.5269 - val_loss: 0.9419 - val_accuracy: 0.5207\n",
      "Epoch 22/50\n",
      "298/298 [==============================] - 21s 72ms/step - loss: 0.8373 - accuracy: 0.5207 - val_loss: 0.6922 - val_accuracy: 0.5207\n",
      "Epoch 23/50\n",
      "298/298 [==============================] - 22s 73ms/step - loss: 0.6922 - accuracy: 0.5252 - val_loss: 0.6922 - val_accuracy: 0.5207\n",
      "Epoch 24/50\n",
      "298/298 [==============================] - 22s 73ms/step - loss: 0.6919 - accuracy: 0.5271 - val_loss: 0.6924 - val_accuracy: 0.5207\n",
      "Epoch 25/50\n",
      "298/298 [==============================] - 23s 76ms/step - loss: 0.6916 - accuracy: 0.5294 - val_loss: 0.6925 - val_accuracy: 0.5207\n",
      "Epoch 26/50\n",
      "298/298 [==============================] - 22s 75ms/step - loss: 0.6917 - accuracy: 0.5284 - val_loss: 0.6924 - val_accuracy: 0.5207\n",
      "Epoch 27/50\n",
      "298/298 [==============================] - 21s 72ms/step - loss: 0.6918 - accuracy: 0.5283 - val_loss: 0.6924 - val_accuracy: 0.5207\n",
      "Epoch 28/50\n",
      "298/298 [==============================] - 22s 74ms/step - loss: 0.6915 - accuracy: 0.5295 - val_loss: 0.6924 - val_accuracy: 0.5207\n",
      "Epoch 29/50\n",
      "298/298 [==============================] - 21s 72ms/step - loss: 0.6916 - accuracy: 0.5298 - val_loss: 0.6924 - val_accuracy: 0.5207\n",
      "Epoch 30/50\n",
      "298/298 [==============================] - 21s 72ms/step - loss: 0.6919 - accuracy: 0.5290 - val_loss: 0.6923 - val_accuracy: 0.5207\n",
      "Epoch 31/50\n",
      "298/298 [==============================] - 21s 72ms/step - loss: 0.6916 - accuracy: 0.5290 - val_loss: 0.6928 - val_accuracy: 0.5207\n",
      "Epoch 32/50\n",
      "298/298 [==============================] - 22s 73ms/step - loss: 0.6916 - accuracy: 0.5297 - val_loss: 0.6924 - val_accuracy: 0.5207\n",
      "Epoch 33/50\n",
      "298/298 [==============================] - 22s 73ms/step - loss: 0.6916 - accuracy: 0.5304 - val_loss: 0.6924 - val_accuracy: 0.5207\n",
      "Epoch 34/50\n",
      "298/298 [==============================] - 23s 79ms/step - loss: 0.6916 - accuracy: 0.5297 - val_loss: 0.6926 - val_accuracy: 0.5207\n",
      "Epoch 35/50\n",
      "298/298 [==============================] - 22s 72ms/step - loss: 0.6914 - accuracy: 0.5300 - val_loss: 0.6931 - val_accuracy: 0.5207\n",
      "Epoch 36/50\n",
      "298/298 [==============================] - 22s 72ms/step - loss: 0.6917 - accuracy: 0.5295 - val_loss: 0.6923 - val_accuracy: 0.5207\n",
      "Epoch 37/50\n",
      "298/298 [==============================] - 22s 73ms/step - loss: 0.6916 - accuracy: 0.5297 - val_loss: 0.6924 - val_accuracy: 0.5207\n",
      "Epoch 38/50\n",
      "298/298 [==============================] - 21s 72ms/step - loss: 0.6916 - accuracy: 0.5300 - val_loss: 0.6930 - val_accuracy: 0.5207\n",
      "Epoch 39/50\n",
      "298/298 [==============================] - 22s 72ms/step - loss: 0.6916 - accuracy: 0.5301 - val_loss: 0.6923 - val_accuracy: 0.5207\n",
      "Epoch 40/50\n",
      "298/298 [==============================] - 22s 72ms/step - loss: 0.6917 - accuracy: 0.5307 - val_loss: 0.6925 - val_accuracy: 0.5207\n",
      "Epoch 41/50\n",
      "298/298 [==============================] - 21s 71ms/step - loss: 0.6915 - accuracy: 0.5301 - val_loss: 0.6924 - val_accuracy: 0.5207\n",
      "Epoch 42/50\n",
      "298/298 [==============================] - 23s 77ms/step - loss: 0.6915 - accuracy: 0.5290 - val_loss: 0.6932 - val_accuracy: 0.5207\n",
      "Epoch 43/50\n",
      "298/298 [==============================] - 22s 72ms/step - loss: 0.6918 - accuracy: 0.5292 - val_loss: 0.6924 - val_accuracy: 0.5207\n",
      "Epoch 44/50\n",
      "298/298 [==============================] - 21s 71ms/step - loss: 0.6916 - accuracy: 0.5296 - val_loss: 0.6926 - val_accuracy: 0.5207\n",
      "Epoch 45/50\n",
      "298/298 [==============================] - 22s 73ms/step - loss: 0.6917 - accuracy: 0.5300 - val_loss: 0.6927 - val_accuracy: 0.5207\n",
      "Epoch 46/50\n",
      "298/298 [==============================] - 22s 72ms/step - loss: 0.6915 - accuracy: 0.5301 - val_loss: 0.6926 - val_accuracy: 0.5207\n",
      "Epoch 47/50\n",
      "298/298 [==============================] - 22s 73ms/step - loss: 0.6917 - accuracy: 0.5302 - val_loss: 0.6928 - val_accuracy: 0.5207\n",
      "Epoch 48/50\n",
      "298/298 [==============================] - 22s 72ms/step - loss: 0.6915 - accuracy: 0.5300 - val_loss: 0.6928 - val_accuracy: 0.5207\n",
      "Epoch 49/50\n",
      "298/298 [==============================] - 21s 72ms/step - loss: 0.6916 - accuracy: 0.5302 - val_loss: 0.6925 - val_accuracy: 0.5207\n",
      "Epoch 50/50\n",
      "298/298 [==============================] - 22s 74ms/step - loss: 0.6925 - accuracy: 0.5287 - val_loss: 0.6991 - val_accuracy: 0.5207\n",
      "Epoch 1/50\n",
      "298/298 [==============================] - 24s 79ms/step - loss: 0.7405 - accuracy: 0.5027 - val_loss: 0.6976 - val_accuracy: 0.5207\n",
      "Epoch 2/50\n",
      "298/298 [==============================] - 22s 72ms/step - loss: 0.7028 - accuracy: 0.5135 - val_loss: 0.6968 - val_accuracy: 0.5207\n",
      "Epoch 3/50\n",
      "298/298 [==============================] - 22s 73ms/step - loss: 0.6970 - accuracy: 0.5172 - val_loss: 0.6959 - val_accuracy: 0.5207\n",
      "Epoch 4/50\n",
      "298/298 [==============================] - 21s 71ms/step - loss: 0.6961 - accuracy: 0.5168 - val_loss: 0.6942 - val_accuracy: 0.5207\n",
      "Epoch 5/50\n",
      "298/298 [==============================] - 21s 72ms/step - loss: 0.6948 - accuracy: 0.5171 - val_loss: 0.6935 - val_accuracy: 0.5207\n",
      "Epoch 6/50\n",
      "298/298 [==============================] - 22s 73ms/step - loss: 0.6939 - accuracy: 0.5191 - val_loss: 0.6939 - val_accuracy: 0.5207\n",
      "Epoch 7/50\n",
      "298/298 [==============================] - 22s 73ms/step - loss: 0.6938 - accuracy: 0.5218 - val_loss: 0.6928 - val_accuracy: 0.5207\n",
      "Epoch 8/50\n",
      "298/298 [==============================] - 21s 72ms/step - loss: 0.6936 - accuracy: 0.5192 - val_loss: 0.6932 - val_accuracy: 0.5207\n",
      "Epoch 9/50\n",
      "298/298 [==============================] - 23s 76ms/step - loss: 0.6928 - accuracy: 0.5241 - val_loss: 0.6927 - val_accuracy: 0.5207\n",
      "Epoch 10/50\n",
      "298/298 [==============================] - 22s 74ms/step - loss: 0.6927 - accuracy: 0.5241 - val_loss: 0.6930 - val_accuracy: 0.5207\n",
      "Epoch 11/50\n",
      "298/298 [==============================] - 22s 73ms/step - loss: 0.6928 - accuracy: 0.5231 - val_loss: 0.6946 - val_accuracy: 0.5207\n",
      "Epoch 12/50\n",
      "298/298 [==============================] - 21s 72ms/step - loss: 0.6929 - accuracy: 0.5222 - val_loss: 0.6925 - val_accuracy: 0.5207\n",
      "Epoch 13/50\n",
      "298/298 [==============================] - 21s 72ms/step - loss: 0.6922 - accuracy: 0.5248 - val_loss: 0.6931 - val_accuracy: 0.5207\n",
      "Epoch 14/50\n",
      "298/298 [==============================] - 21s 72ms/step - loss: 0.6925 - accuracy: 0.5287 - val_loss: 0.6929 - val_accuracy: 0.5207\n",
      "Epoch 15/50\n",
      "298/298 [==============================] - 21s 72ms/step - loss: 0.6922 - accuracy: 0.5269 - val_loss: 0.6925 - val_accuracy: 0.5207\n",
      "Epoch 16/50\n",
      "298/298 [==============================] - 21s 72ms/step - loss: 0.6923 - accuracy: 0.5230 - val_loss: 0.6925 - val_accuracy: 0.5207\n",
      "Epoch 17/50\n",
      "298/298 [==============================] - 22s 72ms/step - loss: 0.6920 - accuracy: 0.5273 - val_loss: 0.6924 - val_accuracy: 0.5207\n",
      "Epoch 18/50\n",
      "298/298 [==============================] - 23s 77ms/step - loss: 0.6922 - accuracy: 0.5285 - val_loss: 0.6925 - val_accuracy: 0.5207\n",
      "Epoch 19/50\n",
      "298/298 [==============================] - 22s 73ms/step - loss: 0.6921 - accuracy: 0.5293 - val_loss: 0.6924 - val_accuracy: 0.5207\n",
      "Epoch 20/50\n",
      "298/298 [==============================] - 22s 75ms/step - loss: 0.6920 - accuracy: 0.5293 - val_loss: 0.6930 - val_accuracy: 0.5207\n",
      "Epoch 21/50\n",
      "298/298 [==============================] - 22s 73ms/step - loss: 0.6920 - accuracy: 0.5294 - val_loss: 0.6926 - val_accuracy: 0.5207\n",
      "Epoch 22/50\n",
      "298/298 [==============================] - 22s 72ms/step - loss: 0.6919 - accuracy: 0.5306 - val_loss: 0.6927 - val_accuracy: 0.5207\n",
      "Epoch 23/50\n",
      "298/298 [==============================] - 22s 74ms/step - loss: 0.6913 - accuracy: 0.5291 - val_loss: 0.6942 - val_accuracy: 0.5207\n",
      "Epoch 24/50\n",
      "298/298 [==============================] - 22s 73ms/step - loss: 0.6921 - accuracy: 0.5309 - val_loss: 0.6924 - val_accuracy: 0.5207\n",
      "Epoch 25/50\n",
      "298/298 [==============================] - 22s 74ms/step - loss: 0.6920 - accuracy: 0.5284 - val_loss: 0.6923 - val_accuracy: 0.5207\n",
      "Epoch 26/50\n",
      "298/298 [==============================] - 22s 75ms/step - loss: 0.6916 - accuracy: 0.5292 - val_loss: 0.6924 - val_accuracy: 0.5207\n",
      "Epoch 27/50\n",
      "298/298 [==============================] - 22s 74ms/step - loss: 0.6916 - accuracy: 0.5290 - val_loss: 0.6926 - val_accuracy: 0.5207\n",
      "Epoch 28/50\n",
      "298/298 [==============================] - 22s 73ms/step - loss: 0.6919 - accuracy: 0.5296 - val_loss: 0.6924 - val_accuracy: 0.5207\n",
      "Epoch 29/50\n",
      "298/298 [==============================] - 21s 72ms/step - loss: 0.6920 - accuracy: 0.5298 - val_loss: 0.6924 - val_accuracy: 0.5207\n",
      "Epoch 30/50\n",
      "298/298 [==============================] - 22s 72ms/step - loss: 0.6917 - accuracy: 0.5300 - val_loss: 0.6926 - val_accuracy: 0.5207\n",
      "Epoch 31/50\n",
      "298/298 [==============================] - 22s 73ms/step - loss: 0.6916 - accuracy: 0.5292 - val_loss: 0.6926 - val_accuracy: 0.5207\n",
      "Epoch 32/50\n",
      "298/298 [==============================] - 21s 72ms/step - loss: 0.6914 - accuracy: 0.5299 - val_loss: 0.6930 - val_accuracy: 0.5207\n",
      "Epoch 33/50\n",
      "298/298 [==============================] - 22s 73ms/step - loss: 0.6914 - accuracy: 0.5305 - val_loss: 0.6924 - val_accuracy: 0.5207\n",
      "Epoch 34/50\n",
      "298/298 [==============================] - 22s 74ms/step - loss: 0.6913 - accuracy: 0.5291 - val_loss: 0.6926 - val_accuracy: 0.5207\n",
      "Epoch 35/50\n",
      "298/298 [==============================] - 23s 77ms/step - loss: 0.6916 - accuracy: 0.5291 - val_loss: 0.6925 - val_accuracy: 0.5207\n",
      "Epoch 36/50\n",
      "298/298 [==============================] - 22s 73ms/step - loss: 0.6916 - accuracy: 0.5301 - val_loss: 0.6924 - val_accuracy: 0.5207\n",
      "Epoch 37/50\n",
      "298/298 [==============================] - 22s 73ms/step - loss: 0.6916 - accuracy: 0.5300 - val_loss: 0.6923 - val_accuracy: 0.5207\n",
      "Epoch 38/50\n",
      "298/298 [==============================] - 21s 72ms/step - loss: 0.6913 - accuracy: 0.5276 - val_loss: 0.6946 - val_accuracy: 0.5207\n",
      "Epoch 39/50\n",
      "298/298 [==============================] - 24s 80ms/step - loss: 0.6916 - accuracy: 0.5289 - val_loss: 0.6929 - val_accuracy: 0.5207\n",
      "Epoch 40/50\n",
      " 31/298 [==>...........................] - ETA: 16s - loss: 0.6913 - accuracy: 0.5323"
     ]
    },
    {
     "ename": "KeyboardInterrupt",
     "evalue": "",
     "output_type": "error",
     "traceback": [
      "\u001b[1;31m---------------------------------------------------------------------------\u001b[0m",
      "\u001b[1;31mKeyboardInterrupt\u001b[0m                         Traceback (most recent call last)",
      "\u001b[1;32md:\\Forex machine learning project\\Forex-Machine-learning-model\\version_one.ipynb Cell 14\u001b[0m in \u001b[0;36m<cell line: 5>\u001b[1;34m()\u001b[0m\n\u001b[0;32m     <a href='vscode-notebook-cell:/d%3A/Forex%20machine%20learning%20project/Forex-Machine-learning-model/version_one.ipynb#X13sZmlsZQ%3D%3D?line=30'>31</a>\u001b[0m optimizer \u001b[39m=\u001b[39m Adam(learning_rate\u001b[39m=\u001b[39mlr)\n\u001b[0;32m     <a href='vscode-notebook-cell:/d%3A/Forex%20machine%20learning%20project/Forex-Machine-learning-model/version_one.ipynb#X13sZmlsZQ%3D%3D?line=31'>32</a>\u001b[0m model\u001b[39m.\u001b[39mcompile(loss\u001b[39m=\u001b[39m\u001b[39m'\u001b[39m\u001b[39mcategorical_crossentropy\u001b[39m\u001b[39m'\u001b[39m, optimizer\u001b[39m=\u001b[39moptimizer, metrics\u001b[39m=\u001b[39m[\u001b[39m'\u001b[39m\u001b[39maccuracy\u001b[39m\u001b[39m'\u001b[39m])\n\u001b[1;32m---> <a href='vscode-notebook-cell:/d%3A/Forex%20machine%20learning%20project/Forex-Machine-learning-model/version_one.ipynb#X13sZmlsZQ%3D%3D?line=33'>34</a>\u001b[0m history \u001b[39m=\u001b[39m model\u001b[39m.\u001b[39;49mfit(train_X, train_y, epochs\u001b[39m=\u001b[39;49m\u001b[39m50\u001b[39;49m, batch_size\u001b[39m=\u001b[39;49m\u001b[39m64\u001b[39;49m, validation_data\u001b[39m=\u001b[39;49m(val_X, val_y), verbose\u001b[39m=\u001b[39;49m\u001b[39m1\u001b[39;49m)\n",
      "File \u001b[1;32mc:\\Users\\jaycee\\AppData\\Local\\Programs\\Python\\Python310\\lib\\site-packages\\keras\\utils\\traceback_utils.py:64\u001b[0m, in \u001b[0;36mfilter_traceback.<locals>.error_handler\u001b[1;34m(*args, **kwargs)\u001b[0m\n\u001b[0;32m     62\u001b[0m filtered_tb \u001b[39m=\u001b[39m \u001b[39mNone\u001b[39;00m\n\u001b[0;32m     63\u001b[0m \u001b[39mtry\u001b[39;00m:\n\u001b[1;32m---> 64\u001b[0m   \u001b[39mreturn\u001b[39;00m fn(\u001b[39m*\u001b[39margs, \u001b[39m*\u001b[39m\u001b[39m*\u001b[39mkwargs)\n\u001b[0;32m     65\u001b[0m \u001b[39mexcept\u001b[39;00m \u001b[39mException\u001b[39;00m \u001b[39mas\u001b[39;00m e:  \u001b[39m# pylint: disable=broad-except\u001b[39;00m\n\u001b[0;32m     66\u001b[0m   filtered_tb \u001b[39m=\u001b[39m _process_traceback_frames(e\u001b[39m.\u001b[39m__traceback__)\n",
      "File \u001b[1;32mc:\\Users\\jaycee\\AppData\\Local\\Programs\\Python\\Python310\\lib\\site-packages\\keras\\engine\\training.py:1384\u001b[0m, in \u001b[0;36mModel.fit\u001b[1;34m(self, x, y, batch_size, epochs, verbose, callbacks, validation_split, validation_data, shuffle, class_weight, sample_weight, initial_epoch, steps_per_epoch, validation_steps, validation_batch_size, validation_freq, max_queue_size, workers, use_multiprocessing)\u001b[0m\n\u001b[0;32m   1377\u001b[0m \u001b[39mwith\u001b[39;00m tf\u001b[39m.\u001b[39mprofiler\u001b[39m.\u001b[39mexperimental\u001b[39m.\u001b[39mTrace(\n\u001b[0;32m   1378\u001b[0m     \u001b[39m'\u001b[39m\u001b[39mtrain\u001b[39m\u001b[39m'\u001b[39m,\n\u001b[0;32m   1379\u001b[0m     epoch_num\u001b[39m=\u001b[39mepoch,\n\u001b[0;32m   1380\u001b[0m     step_num\u001b[39m=\u001b[39mstep,\n\u001b[0;32m   1381\u001b[0m     batch_size\u001b[39m=\u001b[39mbatch_size,\n\u001b[0;32m   1382\u001b[0m     _r\u001b[39m=\u001b[39m\u001b[39m1\u001b[39m):\n\u001b[0;32m   1383\u001b[0m   callbacks\u001b[39m.\u001b[39mon_train_batch_begin(step)\n\u001b[1;32m-> 1384\u001b[0m   tmp_logs \u001b[39m=\u001b[39m \u001b[39mself\u001b[39;49m\u001b[39m.\u001b[39;49mtrain_function(iterator)\n\u001b[0;32m   1385\u001b[0m   \u001b[39mif\u001b[39;00m data_handler\u001b[39m.\u001b[39mshould_sync:\n\u001b[0;32m   1386\u001b[0m     context\u001b[39m.\u001b[39masync_wait()\n",
      "File \u001b[1;32mc:\\Users\\jaycee\\AppData\\Local\\Programs\\Python\\Python310\\lib\\site-packages\\tensorflow\\python\\util\\traceback_utils.py:150\u001b[0m, in \u001b[0;36mfilter_traceback.<locals>.error_handler\u001b[1;34m(*args, **kwargs)\u001b[0m\n\u001b[0;32m    148\u001b[0m filtered_tb \u001b[39m=\u001b[39m \u001b[39mNone\u001b[39;00m\n\u001b[0;32m    149\u001b[0m \u001b[39mtry\u001b[39;00m:\n\u001b[1;32m--> 150\u001b[0m   \u001b[39mreturn\u001b[39;00m fn(\u001b[39m*\u001b[39margs, \u001b[39m*\u001b[39m\u001b[39m*\u001b[39mkwargs)\n\u001b[0;32m    151\u001b[0m \u001b[39mexcept\u001b[39;00m \u001b[39mException\u001b[39;00m \u001b[39mas\u001b[39;00m e:\n\u001b[0;32m    152\u001b[0m   filtered_tb \u001b[39m=\u001b[39m _process_traceback_frames(e\u001b[39m.\u001b[39m__traceback__)\n",
      "File \u001b[1;32mc:\\Users\\jaycee\\AppData\\Local\\Programs\\Python\\Python310\\lib\\site-packages\\tensorflow\\python\\eager\\def_function.py:915\u001b[0m, in \u001b[0;36mFunction.__call__\u001b[1;34m(self, *args, **kwds)\u001b[0m\n\u001b[0;32m    912\u001b[0m compiler \u001b[39m=\u001b[39m \u001b[39m\"\u001b[39m\u001b[39mxla\u001b[39m\u001b[39m\"\u001b[39m \u001b[39mif\u001b[39;00m \u001b[39mself\u001b[39m\u001b[39m.\u001b[39m_jit_compile \u001b[39melse\u001b[39;00m \u001b[39m\"\u001b[39m\u001b[39mnonXla\u001b[39m\u001b[39m\"\u001b[39m\n\u001b[0;32m    914\u001b[0m \u001b[39mwith\u001b[39;00m OptionalXlaContext(\u001b[39mself\u001b[39m\u001b[39m.\u001b[39m_jit_compile):\n\u001b[1;32m--> 915\u001b[0m   result \u001b[39m=\u001b[39m \u001b[39mself\u001b[39m\u001b[39m.\u001b[39m_call(\u001b[39m*\u001b[39margs, \u001b[39m*\u001b[39m\u001b[39m*\u001b[39mkwds)\n\u001b[0;32m    917\u001b[0m new_tracing_count \u001b[39m=\u001b[39m \u001b[39mself\u001b[39m\u001b[39m.\u001b[39mexperimental_get_tracing_count()\n\u001b[0;32m    918\u001b[0m without_tracing \u001b[39m=\u001b[39m (tracing_count \u001b[39m==\u001b[39m new_tracing_count)\n",
      "File \u001b[1;32mc:\\Users\\jaycee\\AppData\\Local\\Programs\\Python\\Python310\\lib\\site-packages\\tensorflow\\python\\eager\\def_function.py:947\u001b[0m, in \u001b[0;36mFunction._call\u001b[1;34m(self, *args, **kwds)\u001b[0m\n\u001b[0;32m    944\u001b[0m   \u001b[39mself\u001b[39m\u001b[39m.\u001b[39m_lock\u001b[39m.\u001b[39mrelease()\n\u001b[0;32m    945\u001b[0m   \u001b[39m# In this case we have created variables on the first call, so we run the\u001b[39;00m\n\u001b[0;32m    946\u001b[0m   \u001b[39m# defunned version which is guaranteed to never create variables.\u001b[39;00m\n\u001b[1;32m--> 947\u001b[0m   \u001b[39mreturn\u001b[39;00m \u001b[39mself\u001b[39m\u001b[39m.\u001b[39m_stateless_fn(\u001b[39m*\u001b[39margs, \u001b[39m*\u001b[39m\u001b[39m*\u001b[39mkwds)  \u001b[39m# pylint: disable=not-callable\u001b[39;00m\n\u001b[0;32m    948\u001b[0m \u001b[39melif\u001b[39;00m \u001b[39mself\u001b[39m\u001b[39m.\u001b[39m_stateful_fn \u001b[39mis\u001b[39;00m \u001b[39mnot\u001b[39;00m \u001b[39mNone\u001b[39;00m:\n\u001b[0;32m    949\u001b[0m   \u001b[39m# Release the lock early so that multiple threads can perform the call\u001b[39;00m\n\u001b[0;32m    950\u001b[0m   \u001b[39m# in parallel.\u001b[39;00m\n\u001b[0;32m    951\u001b[0m   \u001b[39mself\u001b[39m\u001b[39m.\u001b[39m_lock\u001b[39m.\u001b[39mrelease()\n",
      "File \u001b[1;32mc:\\Users\\jaycee\\AppData\\Local\\Programs\\Python\\Python310\\lib\\site-packages\\tensorflow\\python\\eager\\function.py:2956\u001b[0m, in \u001b[0;36mFunction.__call__\u001b[1;34m(self, *args, **kwargs)\u001b[0m\n\u001b[0;32m   2953\u001b[0m \u001b[39mwith\u001b[39;00m \u001b[39mself\u001b[39m\u001b[39m.\u001b[39m_lock:\n\u001b[0;32m   2954\u001b[0m   (graph_function,\n\u001b[0;32m   2955\u001b[0m    filtered_flat_args) \u001b[39m=\u001b[39m \u001b[39mself\u001b[39m\u001b[39m.\u001b[39m_maybe_define_function(args, kwargs)\n\u001b[1;32m-> 2956\u001b[0m \u001b[39mreturn\u001b[39;00m graph_function\u001b[39m.\u001b[39;49m_call_flat(\n\u001b[0;32m   2957\u001b[0m     filtered_flat_args, captured_inputs\u001b[39m=\u001b[39;49mgraph_function\u001b[39m.\u001b[39;49mcaptured_inputs)\n",
      "File \u001b[1;32mc:\\Users\\jaycee\\AppData\\Local\\Programs\\Python\\Python310\\lib\\site-packages\\tensorflow\\python\\eager\\function.py:1853\u001b[0m, in \u001b[0;36mConcreteFunction._call_flat\u001b[1;34m(self, args, captured_inputs, cancellation_manager)\u001b[0m\n\u001b[0;32m   1849\u001b[0m possible_gradient_type \u001b[39m=\u001b[39m gradients_util\u001b[39m.\u001b[39mPossibleTapeGradientTypes(args)\n\u001b[0;32m   1850\u001b[0m \u001b[39mif\u001b[39;00m (possible_gradient_type \u001b[39m==\u001b[39m gradients_util\u001b[39m.\u001b[39mPOSSIBLE_GRADIENT_TYPES_NONE\n\u001b[0;32m   1851\u001b[0m     \u001b[39mand\u001b[39;00m executing_eagerly):\n\u001b[0;32m   1852\u001b[0m   \u001b[39m# No tape is watching; skip to running the function.\u001b[39;00m\n\u001b[1;32m-> 1853\u001b[0m   \u001b[39mreturn\u001b[39;00m \u001b[39mself\u001b[39m\u001b[39m.\u001b[39m_build_call_outputs(\u001b[39mself\u001b[39;49m\u001b[39m.\u001b[39;49m_inference_function\u001b[39m.\u001b[39;49mcall(\n\u001b[0;32m   1854\u001b[0m       ctx, args, cancellation_manager\u001b[39m=\u001b[39;49mcancellation_manager))\n\u001b[0;32m   1855\u001b[0m forward_backward \u001b[39m=\u001b[39m \u001b[39mself\u001b[39m\u001b[39m.\u001b[39m_select_forward_and_backward_functions(\n\u001b[0;32m   1856\u001b[0m     args,\n\u001b[0;32m   1857\u001b[0m     possible_gradient_type,\n\u001b[0;32m   1858\u001b[0m     executing_eagerly)\n\u001b[0;32m   1859\u001b[0m forward_function, args_with_tangents \u001b[39m=\u001b[39m forward_backward\u001b[39m.\u001b[39mforward()\n",
      "File \u001b[1;32mc:\\Users\\jaycee\\AppData\\Local\\Programs\\Python\\Python310\\lib\\site-packages\\tensorflow\\python\\eager\\function.py:499\u001b[0m, in \u001b[0;36m_EagerDefinedFunction.call\u001b[1;34m(self, ctx, args, cancellation_manager)\u001b[0m\n\u001b[0;32m    497\u001b[0m \u001b[39mwith\u001b[39;00m _InterpolateFunctionError(\u001b[39mself\u001b[39m):\n\u001b[0;32m    498\u001b[0m   \u001b[39mif\u001b[39;00m cancellation_manager \u001b[39mis\u001b[39;00m \u001b[39mNone\u001b[39;00m:\n\u001b[1;32m--> 499\u001b[0m     outputs \u001b[39m=\u001b[39m execute\u001b[39m.\u001b[39;49mexecute(\n\u001b[0;32m    500\u001b[0m         \u001b[39mstr\u001b[39;49m(\u001b[39mself\u001b[39;49m\u001b[39m.\u001b[39;49msignature\u001b[39m.\u001b[39;49mname),\n\u001b[0;32m    501\u001b[0m         num_outputs\u001b[39m=\u001b[39;49m\u001b[39mself\u001b[39;49m\u001b[39m.\u001b[39;49m_num_outputs,\n\u001b[0;32m    502\u001b[0m         inputs\u001b[39m=\u001b[39;49margs,\n\u001b[0;32m    503\u001b[0m         attrs\u001b[39m=\u001b[39;49mattrs,\n\u001b[0;32m    504\u001b[0m         ctx\u001b[39m=\u001b[39;49mctx)\n\u001b[0;32m    505\u001b[0m   \u001b[39melse\u001b[39;00m:\n\u001b[0;32m    506\u001b[0m     outputs \u001b[39m=\u001b[39m execute\u001b[39m.\u001b[39mexecute_with_cancellation(\n\u001b[0;32m    507\u001b[0m         \u001b[39mstr\u001b[39m(\u001b[39mself\u001b[39m\u001b[39m.\u001b[39msignature\u001b[39m.\u001b[39mname),\n\u001b[0;32m    508\u001b[0m         num_outputs\u001b[39m=\u001b[39m\u001b[39mself\u001b[39m\u001b[39m.\u001b[39m_num_outputs,\n\u001b[1;32m   (...)\u001b[0m\n\u001b[0;32m    511\u001b[0m         ctx\u001b[39m=\u001b[39mctx,\n\u001b[0;32m    512\u001b[0m         cancellation_manager\u001b[39m=\u001b[39mcancellation_manager)\n",
      "File \u001b[1;32mc:\\Users\\jaycee\\AppData\\Local\\Programs\\Python\\Python310\\lib\\site-packages\\tensorflow\\python\\eager\\execute.py:54\u001b[0m, in \u001b[0;36mquick_execute\u001b[1;34m(op_name, num_outputs, inputs, attrs, ctx, name)\u001b[0m\n\u001b[0;32m     52\u001b[0m \u001b[39mtry\u001b[39;00m:\n\u001b[0;32m     53\u001b[0m   ctx\u001b[39m.\u001b[39mensure_initialized()\n\u001b[1;32m---> 54\u001b[0m   tensors \u001b[39m=\u001b[39m pywrap_tfe\u001b[39m.\u001b[39;49mTFE_Py_Execute(ctx\u001b[39m.\u001b[39;49m_handle, device_name, op_name,\n\u001b[0;32m     55\u001b[0m                                       inputs, attrs, num_outputs)\n\u001b[0;32m     56\u001b[0m \u001b[39mexcept\u001b[39;00m core\u001b[39m.\u001b[39m_NotOkStatusException \u001b[39mas\u001b[39;00m e:\n\u001b[0;32m     57\u001b[0m   \u001b[39mif\u001b[39;00m name \u001b[39mis\u001b[39;00m \u001b[39mnot\u001b[39;00m \u001b[39mNone\u001b[39;00m:\n",
      "\u001b[1;31mKeyboardInterrupt\u001b[0m: "
     ]
    }
   ],
   "source": [
    "from keras.layers import LeakyReLU, Dropout\n",
    "\n",
    "learning_rates = [0.01, 0.001, 0.0001]\n",
    "\n",
    "for lr in learning_rates:\n",
    "    model = Sequential()\n",
    "    model.add(Conv1D(64, 3, activation='linear', input_shape=(50, 6)))\n",
    "    model.add(LeakyReLU(alpha=0.1))\n",
    "    model.add(Conv1D(64, 3, activation='linear'))\n",
    "    model.add(LeakyReLU(alpha=0.1))\n",
    "    model.add(MaxPooling1D(pool_size=2))\n",
    "    model.add(Dropout(0.25))\n",
    "    model.add(Conv1D(128, 3, activation='linear'))\n",
    "    model.add(LeakyReLU(alpha=0.1))\n",
    "    model.add(Conv1D(128, 3, activation='linear'))\n",
    "    model.add(LeakyReLU(alpha=0.1))\n",
    "    model.add(MaxPooling1D(pool_size=2))\n",
    "    model.add(Dropout(0.25))\n",
    "    model.add(Conv1D(256, 3, activation='linear'))\n",
    "    model.add(LeakyReLU(alpha=0.1))\n",
    "    model.add(Conv1D(256, 3, activation='linear'))\n",
    "    model.add(LeakyReLU(alpha=0.1))\n",
    "    model.add(MaxPooling1D(pool_size=2))\n",
    "    model.add(Dropout(0.25))\n",
    "    model.add(Flatten())\n",
    "    model.add(Dense(256, activation='linear'))\n",
    "    model.add(LeakyReLU(alpha=0.1))\n",
    "    model.add(Dropout(0.5))\n",
    "    model.add(Dense(3, activation='softmax'))\n",
    "\n",
    "    optimizer = Adam(learning_rate=lr)\n",
    "    model.compile(loss='categorical_crossentropy', optimizer=optimizer, metrics=['accuracy'])\n",
    "\n",
    "    history = model.fit(train_X, train_y, epochs=50, batch_size=64, validation_data=(val_X, val_y), verbose=1)"
   ]
  },
  {
   "cell_type": "code",
   "execution_count": 42,
   "metadata": {},
   "outputs": [],
   "source": [
    "# opt = Adam(learning_rate=0.001)\n",
    "# model.compile(loss='categorical_crossentropy', optimizer=opt, metrics=['accuracy'])\n",
    "\n",
    "# history = model.fit([train_X, train_X], train_y, epochs=50, batch_size=32, validation_data=([val_X, val_X], val_y))"
   ]
  },
  {
   "cell_type": "code",
   "execution_count": 51,
   "metadata": {},
   "outputs": [
    {
     "data": {
      "image/png": "[encoded data removed]",
      "text/plain": [
       "<Figure size 432x288 with 1 Axes>"
      ]
     },
     "metadata": {
      "needs_background": "light"
     },
     "output_type": "display_data"
    },
    {
     "data": {
      "image/png": "[encoded data removed]",
      "text/plain": [
       "<Figure size 432x288 with 1 Axes>"
      ]
     },
     "metadata": {
      "needs_background": "light"
     },
     "output_type": "display_data"
    }
   ],
   "source": [
    "\n",
    "\n",
    "# plot training and validation accuracy\n",
    "plt.plot(history.history['accuracy'])\n",
    "plt.plot(history.history['val_accuracy'])\n",
    "plt.title('Model accuracy')\n",
    "plt.ylabel('Accuracy')\n",
    "plt.xlabel('Epoch')\n",
    "plt.legend(['Train', 'Validation'], loc='upper left')\n",
    "plt.show()\n",
    "\n",
    "# plot training and validation loss\n",
    "plt.plot(history.history['loss'])\n",
    "plt.plot(history.history['val_loss'])\n",
    "plt.title('Model loss')\n",
    "plt.ylabel('Loss')\n",
    "plt.xlabel('Epoch')\n",
    "plt.legend(['Train', 'Validation'], loc='upper left')\n",
    "plt.show()"
   ]
  },
  {
   "cell_type": "code",
   "execution_count": 52,
   "metadata": {},
   "outputs": [
    {
     "name": "stdout",
     "output_type": "stream",
     "text": [
      "199/199 [==============================] - 2s 10ms/step - loss: 0.6928 - accuracy: 0.5207\n",
      "Validation accuracy: 0.5207118988037109\n"
     ]
    }
   ],
   "source": [
    "val_loss, val_acc = model.evaluate(val_X, val_y)\n",
    "print(\"Validation accuracy:\", val_acc)"
   ]
  },
  {
   "cell_type": "code",
   "execution_count": 45,
   "metadata": {},
   "outputs": [],
   "source": [
    "y_pred = model.predict(test_X)"
   ]
  },
  {
   "cell_type": "code",
   "execution_count": 46,
   "metadata": {},
   "outputs": [],
   "source": [
    "y_pred = np.argmax(y_pred, axis=1)"
   ]
  },
  {
   "cell_type": "code",
   "execution_count": 47,
   "metadata": {},
   "outputs": [
    {
     "ename": "AxisError",
     "evalue": "axis 1 is out of bounds for array of dimension 1",
     "output_type": "error",
     "traceback": [
      "\u001b[1;31m---------------------------------------------------------------------------\u001b[0m",
      "\u001b[1;31mAxisError\u001b[0m                                 Traceback (most recent call last)",
      "\u001b[1;32md:\\Forex machine learning project\\Forex-Machine-learning-model\\version_one.ipynb Cell 20\u001b[0m in \u001b[0;36m<cell line: 1>\u001b[1;34m()\u001b[0m\n\u001b[1;32m----> <a href='vscode-notebook-cell:/d%3A/Forex%20machine%20learning%20project/Forex-Machine-learning-model/version_one.ipynb#X25sZmlsZQ%3D%3D?line=0'>1</a>\u001b[0m test_y \u001b[39m=\u001b[39m np\u001b[39m.\u001b[39;49margmax(test_y, axis\u001b[39m=\u001b[39;49m\u001b[39m1\u001b[39;49m)\n",
      "File \u001b[1;32m<__array_function__ internals>:180\u001b[0m, in \u001b[0;36margmax\u001b[1;34m(*args, **kwargs)\u001b[0m\n",
      "File \u001b[1;32mc:\\Users\\jaycee\\AppData\\Local\\Programs\\Python\\Python310\\lib\\site-packages\\numpy\\core\\fromnumeric.py:1216\u001b[0m, in \u001b[0;36margmax\u001b[1;34m(a, axis, out, keepdims)\u001b[0m\n\u001b[0;32m   1129\u001b[0m \u001b[39m\"\"\"\u001b[39;00m\n\u001b[0;32m   1130\u001b[0m \u001b[39mReturns the indices of the maximum values along an axis.\u001b[39;00m\n\u001b[0;32m   1131\u001b[0m \n\u001b[1;32m   (...)\u001b[0m\n\u001b[0;32m   1213\u001b[0m \u001b[39m(2, 1, 4)\u001b[39;00m\n\u001b[0;32m   1214\u001b[0m \u001b[39m\"\"\"\u001b[39;00m\n\u001b[0;32m   1215\u001b[0m kwds \u001b[39m=\u001b[39m {\u001b[39m'\u001b[39m\u001b[39mkeepdims\u001b[39m\u001b[39m'\u001b[39m: keepdims} \u001b[39mif\u001b[39;00m keepdims \u001b[39mis\u001b[39;00m \u001b[39mnot\u001b[39;00m np\u001b[39m.\u001b[39m_NoValue \u001b[39melse\u001b[39;00m {}\n\u001b[1;32m-> 1216\u001b[0m \u001b[39mreturn\u001b[39;00m _wrapfunc(a, \u001b[39m'\u001b[39m\u001b[39margmax\u001b[39m\u001b[39m'\u001b[39m, axis\u001b[39m=\u001b[39maxis, out\u001b[39m=\u001b[39mout, \u001b[39m*\u001b[39m\u001b[39m*\u001b[39mkwds)\n",
      "File \u001b[1;32mc:\\Users\\jaycee\\AppData\\Local\\Programs\\Python\\Python310\\lib\\site-packages\\numpy\\core\\fromnumeric.py:57\u001b[0m, in \u001b[0;36m_wrapfunc\u001b[1;34m(obj, method, *args, **kwds)\u001b[0m\n\u001b[0;32m     54\u001b[0m     \u001b[39mreturn\u001b[39;00m _wrapit(obj, method, \u001b[39m*\u001b[39margs, \u001b[39m*\u001b[39m\u001b[39m*\u001b[39mkwds)\n\u001b[0;32m     56\u001b[0m \u001b[39mtry\u001b[39;00m:\n\u001b[1;32m---> 57\u001b[0m     \u001b[39mreturn\u001b[39;00m bound(\u001b[39m*\u001b[39margs, \u001b[39m*\u001b[39m\u001b[39m*\u001b[39mkwds)\n\u001b[0;32m     58\u001b[0m \u001b[39mexcept\u001b[39;00m \u001b[39mTypeError\u001b[39;00m:\n\u001b[0;32m     59\u001b[0m     \u001b[39m# A TypeError occurs if the object does have such a method in its\u001b[39;00m\n\u001b[0;32m     60\u001b[0m     \u001b[39m# class, but its signature is not identical to that of NumPy's. This\u001b[39;00m\n\u001b[1;32m   (...)\u001b[0m\n\u001b[0;32m     64\u001b[0m     \u001b[39m# Call _wrapit from within the except clause to ensure a potential\u001b[39;00m\n\u001b[0;32m     65\u001b[0m     \u001b[39m# exception has a traceback chain.\u001b[39;00m\n\u001b[0;32m     66\u001b[0m     \u001b[39mreturn\u001b[39;00m _wrapit(obj, method, \u001b[39m*\u001b[39margs, \u001b[39m*\u001b[39m\u001b[39m*\u001b[39mkwds)\n",
      "\u001b[1;31mAxisError\u001b[0m: axis 1 is out of bounds for array of dimension 1"
     ]
    }
   ],
   "source": [
    "test_y = np.argmax(test_y, axis=1)"
   ]
  },
  {
   "cell_type": "code",
   "execution_count": null,
   "metadata": {},
   "outputs": [],
   "source": []
  }
 ],
 "metadata": {
  "kernelspec": {
   "display_name": "Python 3",
   "language": "python",
   "name": "python3"
  },
  "language_info": {
   "codemirror_mode": {
    "name": "ipython",
    "version": 3
   },
   "file_extension": ".py",
   "mimetype": "text/x-python",
   "name": "python",
   "nbconvert_exporter": "python",
   "pygments_lexer": "ipython3",
   "version": "3.10.4"
  },
  "orig_nbformat": 4,
  "vscode": {
   "interpreter": {
    "hash": "9d9d2c98217b744f41fccc322f7c963e9592791b03244918fc2389927e628273"
   }
  }
 },
 "nbformat": 4,
 "nbformat_minor": 2
}
